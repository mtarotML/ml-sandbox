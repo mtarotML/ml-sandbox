{
 "cells": [
  {
   "cell_type": "code",
   "execution_count": 8,
   "id": "1ee9a988",
   "metadata": {},
   "outputs": [],
   "source": [
    "import numpy as np\n",
    "import matplotlib as matp\n",
    "import pandas as pd"
   ]
  },
  {
   "cell_type": "code",
   "execution_count": 10,
   "id": "2a444acd",
   "metadata": {},
   "outputs": [
    {
     "name": "stdout",
     "output_type": "stream",
     "text": [
      "['500 sqft' '473 sqft' '779 sqft' ... '1250 sqft' nan nan] [ 6000. 13799. 17500. ...  4343.  4231.  6162.]\n"
     ]
    }
   ],
   "source": [
    "df = pd.read_csv(\"house_prices.csv\")\n",
    "\n",
    "X = df.iloc[:, 6].to_numpy()\n",
    "y = df.iloc[:, 4].to_numpy()  \n",
    "print(X,y)"
   ]
  },
  {
   "cell_type": "code",
   "execution_count": null,
   "id": "37374a41",
   "metadata": {},
   "outputs": [],
   "source": []
  }
 ],
 "metadata": {
  "kernelspec": {
   "display_name": ".venv",
   "language": "python",
   "name": "python3"
  },
  "language_info": {
   "codemirror_mode": {
    "name": "ipython",
    "version": 3
   },
   "file_extension": ".py",
   "mimetype": "text/x-python",
   "name": "python",
   "nbconvert_exporter": "python",
   "pygments_lexer": "ipython3",
   "version": "3.13.7"
  }
 },
 "nbformat": 4,
 "nbformat_minor": 5
}
